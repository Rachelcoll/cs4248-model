{
 "cells": [
  {
   "cell_type": "code",
   "execution_count": 1,
   "metadata": {},
   "outputs": [],
   "source": [
    "import pandas as pd\n",
    "import numpy as np\n",
    "import json\n",
    "from PIL import Image, ImageDraw, ImageFont\n",
    "import os\n",
    "import regex"
   ]
  },
  {
   "cell_type": "code",
   "execution_count": 2,
   "metadata": {},
   "outputs": [],
   "source": [
    "def preprocess_text(text):\n",
    "    text = text.replace('\\'\\'', '').lower()\n",
    "    split_text = regex.findall(r'\\':?(.*?):?\\'', text)\n",
    "    return split_text\n",
    "\n",
    "def split_emojis(s):\n",
    "    return regex.findall(r\"\\X\", s)\n",
    "\n",
    "def preprocess_emoji(emojis):\n",
    "    emojis_list = split_emojis(emojis)\n",
    "    filtered = [c for c in emojis_list if c.strip() != '']\n",
    "    return filtered\n",
    "\n",
    "elco_df = pd.read_csv('../../data/elco.csv')\n",
    "descs = elco_df[\"Description\"]\n",
    "emoji_dict = {}\n",
    "\n",
    "for i, row in elco_df.iterrows():\n",
    "    descs = preprocess_text(row[\"Description\"])\n",
    "    emojis = preprocess_emoji(row[\"EM\"])\n",
    "    if len(descs) != len(emojis):\n",
    "        print(f\"Error at: {i}, {descs}, {emojis}\")\n",
    "        break\n",
    "    else:\n",
    "        for j in range(len(descs)):\n",
    "            emoji_dict[descs[j]] = emojis[j]\n",
    "            \n",
    "emoji_desc_pair = {pair[0]: pair[1] for pair in set(emoji_dict.items())}"
   ]
  },
  {
   "cell_type": "code",
   "execution_count": 3,
   "metadata": {},
   "outputs": [],
   "source": [
    "def emoji_to_image(em, desc, font_path, image_size=128, save_dir='images'):\n",
    "    os.makedirs(save_dir, exist_ok=True)\n",
    "    image = Image.new(\"RGB\", (image_size, image_size), (255, 255, 255))\n",
    "    draw = ImageDraw.Draw(image)\n",
    "\n",
    "    font = ImageFont.truetype(font_path, 109)\n",
    "    draw.text((0, 0), em, font=font, embedded_color=True)\n",
    "    image.save(os.path.join(save_dir, f\"{desc}.png\"))\n"
   ]
  },
  {
   "cell_type": "code",
   "execution_count": 17,
   "metadata": {},
   "outputs": [],
   "source": [
    "import math\n",
    "def combine_emoji_images(file_path_list, output_size=None):\n",
    "    images = [Image.open(p).resize((128, 128)) for p in file_path_list]\n",
    "    num_images = len(images)\n",
    "\n",
    "    cols = math.ceil(math.sqrt(num_images))\n",
    "    rows = math.ceil(num_images / cols)\n",
    "\n",
    "    if output_size:\n",
    "        total_width, total_height = output_size\n",
    "        cell_width = total_width // cols\n",
    "        cell_height = total_height // rows\n",
    "        images = [img.resize((cell_width, cell_height)) for img in images]\n",
    "    else:\n",
    "        cell_width, cell_height = 128, 128\n",
    "        total_width = cell_width * cols\n",
    "        total_height = cell_height * rows\n",
    "\n",
    "    combined_img = Image.new(\"RGB\", (total_width, total_height), (255, 255, 255))\n",
    "\n",
    "    for idx, img in enumerate(images):\n",
    "        x = (idx % cols) * cell_width\n",
    "        y = (idx // cols) * cell_height\n",
    "        combined_img.paste(img, (x, y))\n",
    "\n",
    "    return combined_img"
   ]
  },
  {
   "cell_type": "code",
   "execution_count": 109,
   "metadata": {},
   "outputs": [],
   "source": [
    "for desc, em in emoji_desc_pair.items():\n",
    "    emoji_to_image(em, desc, '../../NotoColorEmoji.ttf')"
   ]
  },
  {
   "cell_type": "code",
   "execution_count": 9,
   "metadata": {},
   "outputs": [],
   "source": [
    "from tqdm import tqdm"
   ]
  },
  {
   "cell_type": "code",
   "execution_count": 18,
   "metadata": {},
   "outputs": [
    {
     "name": "stderr",
     "output_type": "stream",
     "text": [
      "100%|██████████| 1655/1655 [00:52<00:00, 31.69it/s]\n"
     ]
    }
   ],
   "source": [
    "for i, row in tqdm(elco_df.iterrows(), total=elco_df.shape[0]):\n",
    "    descs = preprocess_text(row[\"Description\"])\n",
    "    emojis = preprocess_emoji(row[\"EM\"])\n",
    "    if len(descs) != len(emojis):\n",
    "        print(f\"Error at: {i}, {descs}, {emojis}\")\n",
    "        break\n",
    "    emoji_paths = [os.path.join('../../images', f\"{desc}.png\") for desc in descs]\n",
    "    combined_image = combine_emoji_images(emoji_paths, output_size=(512, 512))\n",
    "    os.makedirs('combine_em_images', exist_ok=True)\n",
    "    combined_image.save(os.path.join('combine_em_images', f\"{i}.png\"))"
   ]
  }
 ],
 "metadata": {
  "kernelspec": {
   "display_name": "CS4248",
   "language": "python",
   "name": "python3"
  },
  "language_info": {
   "codemirror_mode": {
    "name": "ipython",
    "version": 3
   },
   "file_extension": ".py",
   "mimetype": "text/x-python",
   "name": "python",
   "nbconvert_exporter": "python",
   "pygments_lexer": "ipython3",
   "version": "3.11.11"
  }
 },
 "nbformat": 4,
 "nbformat_minor": 2
}
