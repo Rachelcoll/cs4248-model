{
 "cells": [
  {
   "cell_type": "code",
   "execution_count": 29,
   "id": "36f4ed15",
   "metadata": {},
   "outputs": [],
   "source": [
    "import torch\n",
    "import torch.nn as nn\n",
    "import torch.nn.functional as F\n",
    "from transformers import CLIPTokenizer, CLIPTextModel, CLIPVisionModel\n",
    "from torch.utils.data import DataLoader, Dataset\n",
    "import PIL\n",
    "import os\n",
    "from tqdm import tqdm\n",
    "import pandas as pd\n",
    "import torchvision.transforms as transforms\n",
    "import regex\n",
    "import numpy as np\n",
    "from sklearn.model_selection import train_test_split\n",
    "import random\n",
    "from collections import Counter\n",
    "from sklearn.metrics import accuracy_score, f1_score, precision_score, recall_score"
   ]
  },
  {
   "cell_type": "code",
   "execution_count": 30,
   "id": "8a664c37",
   "metadata": {},
   "outputs": [],
   "source": [
    "def comp_type_map(comp_type):\n",
    "    type_to_label = {'Direct': 0, 'Metaphorical': 1, 'Semantic list': 2, 'Reduplication': 3, 'Single': 4}\n",
    "    return type_to_label[comp_type]\n",
    "\n",
    "def label_to_comp_type(label):\n",
    "    label_to_type = {0: 'Direct', 1: 'Metaphorical', 2: 'Semantic list', 3: 'Reduplication', 4: 'Single'}\n",
    "    return label_to_type[label]"
   ]
  },
  {
   "cell_type": "code",
   "execution_count": 62,
   "id": "af4469c3",
   "metadata": {},
   "outputs": [],
   "source": [
    "class EmojiCLIP(nn.Module):\n",
    "    def __init__(self, vit_model=CLIPVisionModel.from_pretrained(\"openai/clip-vit-base-patch32\")):\n",
    "        super().__init__()\n",
    "        self.vit = vit_model\n",
    "\n",
    "        # freeze ViT in early training\n",
    "        for param in self.vit.parameters():\n",
    "            param.requires_grad = False\n",
    "    def extract_embedding(self, image):\n",
    "        with torch.no_grad():\n",
    "            return self.vit(pixel_values=image).pooler_output\n",
    "    \n",
    "    def forward(self, image):\n",
    "        image_embedding = self.extract_embedding(image)\n",
    "        return image_embedding\n",
    "    \n",
    "class EmojiImageDataset(Dataset):\n",
    "    def __init__(self, image_dir, transform=transforms.Compose([transforms.Resize((224, 224)), transforms.ToTensor()])):\n",
    "        super().__init__()\n",
    "        self.image_dir = image_dir\n",
    "        self.images = os.listdir(image_dir)\n",
    "        self.transform = transform\n",
    "    def __len__(self):\n",
    "        return len(self.images)\n",
    "    def __getitem__(self, idx):\n",
    "        image_path = os.path.join(self.image_dir, self.images[idx])\n",
    "        image = PIL.Image.open(image_path)\n",
    "        if self.transform:\n",
    "            image = self.transform(image)\n",
    "        return image"
   ]
  },
  {
   "cell_type": "code",
   "execution_count": 58,
   "id": "b346d3d7",
   "metadata": {},
   "outputs": [],
   "source": [
    "device = torch.device(\"cuda\" if torch.cuda.is_available() else \"cpu\")"
   ]
  },
  {
   "cell_type": "code",
   "execution_count": null,
   "id": "89965e2c",
   "metadata": {},
   "outputs": [
    {
     "name": "stderr",
     "output_type": "stream",
     "text": [
      "Extracting embeddings: 100%|██████████| 1655/1655 [04:18<00:00,  6.40it/s]\n"
     ]
    }
   ],
   "source": [
    "emoji_image_dataset = EmojiImageDataset('combine_em_images')\n",
    "model = EmojiCLIP().to(device)\n",
    "all_embeddings = []\n",
    "for i, image_embed in tqdm(enumerate(emoji_image_dataset), desc='Extracting embeddings', total=len(emoji_image_dataset)):\n",
    "        batch_embeddings = model(image_embed.unsqueeze(0).to(device))\n",
    "        all_embeddings.extend(batch_embeddings)"
   ]
  },
  {
   "cell_type": "code",
   "execution_count": 73,
   "id": "79c64b35",
   "metadata": {},
   "outputs": [],
   "source": [
    "class EmojisDataset(Dataset):\n",
    "    def __init__(self, elco_df, image_embeds, em_max_len=3, text_max_len=6, tokenizer='openai/clip-vit-base-patch32'):\n",
    "        super().__init__()\n",
    "        self.transform = transforms.Compose([transforms.Resize((224, 224)), transforms.ToTensor()])\n",
    "        self.elco_df = elco_df\n",
    "        self.image_embeds = image_embeds\n",
    "        self.emoji_descriptions = [self.preprocess_emoji_description(desc) for desc in elco_df[\"Description\"]]\n",
    "        self.raw_emoji_descriptions = elco_df[\"Description\"].values\n",
    "        self.em_max_len = em_max_len\n",
    "        self.text_max_len = text_max_len\n",
    "        self.clip_tokenizer = CLIPTokenizer.from_pretrained(tokenizer)\n",
    "        self.composition_type = [comp_type_map(t) for t in elco_df['Composition strategy'].values]\n",
    "    \n",
    "    def preprocess_emoji_description(self, text):\n",
    "        text = text.replace('\\'\\'', '').lower()\n",
    "        split_text = regex.findall(r'\\':?(.*?):?\\'', text)\n",
    "        return split_text\n",
    "    def preprocess_en(self, text):\n",
    "        return \"This is\" + text.lower().strip()\n",
    "    \n",
    "    def __len__(self):\n",
    "        return len(self.emoji_descriptions)\n",
    "    \n",
    "    def __getitem__(self, index):\n",
    "        emoji_descs = self.emoji_descriptions[index]\n",
    "        image_embed = self.image_embeds[index]\n",
    "        en_text = self.preprocess_en(self.elco_df['EN'].values[index])\n",
    "        composition_type = self.composition_type[index]\n",
    "        \n",
    "        \n",
    "        emoji_desc = \" \".join(emoji_descs)\n",
    "        desc_tokens = self.clip_tokenizer(emoji_desc, \n",
    "                                  truncation=True, \n",
    "                                  padding='max_length',\n",
    "                                  return_tensors='pt',\n",
    "                                  max_length=64)\n",
    "        \n",
    "        en_tokens = self.clip_tokenizer(en_text, \n",
    "                                  truncation=True, \n",
    "                                  padding='max_length',\n",
    "                                  return_tensors='pt',\n",
    "                                  max_length=self.text_max_len)\n",
    "        en_tokens = {k: v.squeeze(0) for k, v in en_tokens.items()}\n",
    "        desc_tokens = {k: v.squeeze(0) for k, v in desc_tokens.items()}\n",
    "        return (image_embed, desc_tokens, en_tokens), composition_type\n",
    "        "
   ]
  },
  {
   "cell_type": "code",
   "execution_count": 32,
   "id": "520f262e",
   "metadata": {},
   "outputs": [],
   "source": [
    "class TypeClassifier(nn.Module):\n",
    "    def __init__(self, input_dim=1024, hidden_dim=512, num_classes=5, dropout=0.1):\n",
    "        super().__init__()\n",
    "        self.model = nn.Sequential(\n",
    "            nn.Linear(input_dim, hidden_dim),\n",
    "            nn.ReLU(),\n",
    "            nn.Dropout(dropout),\n",
    "            nn.Linear(hidden_dim, hidden_dim // 2),\n",
    "            nn.ReLU(),\n",
    "            nn.Dropout(dropout),\n",
    "            nn.Linear(hidden_dim // 2, num_classes),\n",
    "        )\n",
    "        \n",
    "    def forward(self, x):\n",
    "        return self.model(x)"
   ]
  },
  {
   "cell_type": "code",
   "execution_count": 78,
   "id": "e1a5d57f",
   "metadata": {},
   "outputs": [],
   "source": [
    "class EmojiCompositionModel(nn.Module):\n",
    "    def __init__(self, text_encoder='openai/clip-vit-base-patch32',\n",
    "                 image_embed_dim=768, projection_dim=512, freeze_clip=False, text_ratio=0.5, visual_ratio=0.5):\n",
    "        super().__init__()\n",
    "\n",
    "\n",
    "        # self.emoji_transformer = ImageEmbedTransformer(embedding_dim=image_embed_dim, num_layers=num_layers)\n",
    "\n",
    "        self.text_encoder = CLIPTextModel.from_pretrained(text_encoder).text_model\n",
    "        self.text_hidden_dim = self.text_encoder.config.hidden_size\n",
    "        self.desc_embed_size = int(projection_dim * text_ratio)\n",
    "        self.image_embed_size = int(projection_dim * visual_ratio)\n",
    "        self.text_proj_dim = self.desc_embed_size + self.image_embed_size\n",
    "        \n",
    "        if freeze_clip:\n",
    "            for name, param in self.text_encoder.named_parameters():\n",
    "                    # if \"encoder.layers.10\" in name or \"encoder.layers.11\" in name:\n",
    "                    #     param.requires_grad = True\n",
    "                    # else:\n",
    "                    param.requires_grad = False\n",
    "                    \n",
    "        \n",
    "        self.text_proj = nn.Sequential(\n",
    "            nn.Linear(self.text_hidden_dim, self.text_proj_dim),\n",
    "            nn.ReLU(),\n",
    "            nn.LayerNorm(self.text_proj_dim),\n",
    "            nn.Dropout(0.1),\n",
    "            )\n",
    "        \n",
    "        self.desc_proj = nn.Sequential(\n",
    "            nn.Linear(self.text_hidden_dim, self.desc_embed_size),\n",
    "            nn.ReLU(),\n",
    "            nn.LayerNorm(self.desc_embed_size),\n",
    "            nn.Dropout(0.1),\n",
    "            )\n",
    "        \n",
    "        self.image_proj = nn.Sequential(\n",
    "            nn.Linear(image_embed_dim, self.image_embed_size),\n",
    "            nn.ReLU(),\n",
    "            nn.LayerNorm(self.image_embed_size),\n",
    "            nn.Dropout(0.1)\n",
    "            )\n",
    "        \n",
    "        input_dim = self.text_proj_dim * 3\n",
    "        self.classifier = TypeClassifier(input_dim=input_dim, hidden_dim=projection_dim * 2, num_classes=5)\n",
    "        \n",
    "    def forward(self, image_embed, desc_input, text_input):\n",
    "        desc_out = self.text_encoder(**desc_input).pooler_output\n",
    "        z_desc = self.desc_proj(desc_out)\n",
    "        z_image = self.image_proj(image_embed)\n",
    "        \n",
    "        z_emoji = torch.concatenate([z_desc, z_image], dim=-1)\n",
    "        \n",
    "        text_out = self.text_encoder(**text_input).pooler_output\n",
    "        z_text = self.text_proj(text_out)\n",
    "\n",
    "        z_emoji = F.normalize(z_emoji, dim=-1)\n",
    "        z_text = F.normalize(z_text, dim=-1)\n",
    "        z_concat = torch.cat([z_emoji, z_text, torch.abs(z_emoji - z_text)], dim=-1)\n",
    "        output = self.classifier(z_concat)\n",
    "\n",
    "        return (z_emoji, z_text), output"
   ]
  },
  {
   "cell_type": "code",
   "execution_count": 34,
   "id": "d89957e1",
   "metadata": {},
   "outputs": [],
   "source": [
    "elco_df = pd.read_csv('../../data/ELCo.csv')"
   ]
  },
  {
   "cell_type": "code",
   "execution_count": 74,
   "id": "731a6585",
   "metadata": {},
   "outputs": [],
   "source": [
    "emojis_train_dataset = EmojisDataset(elco_df, all_embeddings)\n",
    "train_dataset, validate_dataset = train_test_split(emojis_train_dataset, test_size=0.08, shuffle=True, random_state=42)\n",
    "emojis_train_dataloader = DataLoader(train_dataset, batch_size=32, shuffle=True, drop_last=True)\n",
    "emojis_validate_dataloader = DataLoader(validate_dataset, batch_size=32, shuffle=False, drop_last=True)\n",
    "# emojis_test_dataset = EmojisDataset(emoji_embed_dict, test_df)\n",
    "# emojis_test_dataloader = DataLoader(emojis_test_dataset, batch_size=32, shuffle=False, drop_last=True)"
   ]
  },
  {
   "cell_type": "code",
   "execution_count": 36,
   "id": "0bb9b420",
   "metadata": {},
   "outputs": [],
   "source": [
    "class EarlyStopping:\n",
    "    def __init__(self, patience=2, delta=0.0):\n",
    "        self.patience = patience\n",
    "        self.delta = delta\n",
    "        self.counter = 0\n",
    "        self.best_loss = float('inf')\n",
    "        self.early_stop = False\n",
    "\n",
    "    def __call__(self, val_loss, accuracy):\n",
    "        if val_loss < self.best_loss - self.delta:\n",
    "            self.best_loss = val_loss\n",
    "            self.counter = 0\n",
    "        else:\n",
    "            self.counter += 1\n",
    "            if self.counter >= self.patience:\n",
    "                self.early_stop = True\n",
    "\n",
    "device = torch.device(\"cuda\" if torch.cuda.is_available() else \"cpu\")"
   ]
  },
  {
   "cell_type": "code",
   "execution_count": 81,
   "id": "4d0379a1",
   "metadata": {},
   "outputs": [],
   "source": [
    "def train(text_ratio, visual_ratio, verbose=False):\n",
    "    # reconstruct text dataloader -> each bacth is a list of all possible en for the emojis in given batch\n",
    "    labels = [data[1] for data in emojis_train_dataset]\n",
    "    class_counts = Counter(labels)\n",
    "    class_weights = torch.tensor([len(labels) / count for label, count in class_counts.items()])\n",
    "\n",
    "    en_em_model = EmojiCompositionModel(freeze_clip=True, text_ratio=text_ratio, visual_ratio=visual_ratio).to(device)\n",
    "    optimizer = torch.optim.AdamW(en_em_model.parameters(), lr=2e-5)\n",
    "    early_stopping = EarlyStopping(patience=3)\n",
    "    # criterion = nn.CrossEntropyLoss(weight=class_weights)\n",
    "    num_epochs = 45\n",
    "    results = []\n",
    "\n",
    "    for epoch in tqdm(range(num_epochs), total=num_epochs, desc=f'Training at p_text={text_ratio}'):\n",
    "        total_loss = 0.0\n",
    "        en_em_model.train()\n",
    "        incorrect_labels = {'Direct': 0, 'Metaphorical': 0, 'Semantic list': 0, 'Reduplication': 0, 'Single': 0}\n",
    "        correct_count_train = 0\n",
    "        \n",
    "        for (image, desc_input, en_input), ctype in emojis_train_dataloader:\n",
    "            (z_emojis, z_text), output = en_em_model(image, desc_input, en_input)\n",
    "            \n",
    "            classifier_loss = F.cross_entropy(output, ctype, weight=class_weights, reduction='none')\n",
    "            \n",
    "            classifier_pred = torch.argmax(output, dim=-1)\n",
    "            correct_count_train += torch.sum(classifier_pred == ctype).item()\n",
    "            # for i, pred in enumerate(clssifier_pred):\n",
    "            #     if pred != ctype[i]:\n",
    "            #         incorrect_labels[label_to_comp_type(ctype[i].item())] += 1\n",
    "            \n",
    "            \n",
    "            target_class = torch.tensor([0, 1])\n",
    "            is_target_class = torch.isin(ctype, target_class)\n",
    "            is_incorrect = (classifier_pred != ctype)\n",
    "            should_double = is_target_class & is_incorrect\n",
    "            # print(classifier_loss,\"classifier_loss\")\n",
    "            weights = torch.ones_like(classifier_loss)\n",
    "            weights[should_double] = 2\n",
    "            adjusted_loss = classifier_loss * weights\n",
    "            classifier_loss = adjusted_loss.mean()\n",
    "                    \n",
    "            match_labels = torch.arange(emojis_train_dataloader.batch_size).to(device)\n",
    "            loss_per_emojis = z_emojis @ z_text.T\n",
    "            loss_per_text = loss_per_emojis.T\n",
    "            loss_em = F.cross_entropy(loss_per_emojis, match_labels)\n",
    "            loss_text = F.cross_entropy(loss_per_text, match_labels)\n",
    "\n",
    "            loss = classifier_loss + (loss_em + loss_text) / 2\n",
    "            optimizer.zero_grad()\n",
    "            loss.backward()\n",
    "            optimizer.step()\n",
    "            total_loss += loss.item()\n",
    "        total_loss /= len(emojis_train_dataloader)\n",
    "        train_accuracy = correct_count_train / len(emojis_train_dataset)\n",
    "            \n",
    "        en_em_model.eval()\n",
    "        correct_count = 0\n",
    "        precision_scores = []\n",
    "        recall_scores = []\n",
    "        f1_scores = []\n",
    "        with torch.no_grad():\n",
    "            for (image, desc_input, en_input), ctype in emojis_validate_dataloader:\n",
    "                _, output = en_em_model(image, desc_input, en_input)\n",
    "                prediction = torch.argmax(output, dim=-1)\n",
    "                correct_count += torch.sum(prediction == ctype).item()\n",
    "                precision_scores.append(precision_score(ctype.cpu(), prediction.cpu(), average='macro', zero_division=0))\n",
    "                recall_scores.append(recall_score(ctype.cpu(), prediction.cpu(), average='macro', zero_division=0))\n",
    "                f1_scores.append(f1_score(ctype.cpu(), prediction.cpu(), average='macro', zero_division=0))\n",
    "                for i, pred in enumerate(prediction):\n",
    "                    # print(f\"Pred: {pred}, True: {ctype[i]}\")\n",
    "                    if pred != ctype[i]:\n",
    "                        incorrect_labels[label_to_comp_type(ctype[i].item())] += 1\n",
    "            validation_accuracy = correct_count / len(emojis_validate_dataset)\n",
    "            precision = np.mean(precision_scores)\n",
    "            recall = np.mean(recall_scores)\n",
    "            f1 = np.mean(f1_scores)\n",
    "            \n",
    "        if verbose:    \n",
    "            print(f'Incorrect labels: {incorrect_labels}')\n",
    "            print(f'Epoch {epoch} - Train Loss: {total_loss}, Train accuracy: {train_accuracy}')\n",
    "            print(f'Validation Accuracy: {validation_accuracy}, recall: {recall}, precision: {precision}, f1: {f1}')\n",
    "            print(\"=============================\")\n",
    "        result = {\n",
    "                \"train_accuracy\": train_accuracy,\n",
    "                \"validation_accuracy\": validation_accuracy,\n",
    "                \"recall\": recall,\n",
    "                \"precision\": precision,\n",
    "                \"f1\": f1,\n",
    "                \"incorrect_labels\": incorrect_labels,\n",
    "            }\n",
    "        results.append(result)\n",
    "        \n",
    "        early_stopping(total_loss, validation_accuracy)\n",
    "        if early_stopping.early_stop:\n",
    "            if verbose:\n",
    "                print(f'Early stopping at epoch {epoch}')\n",
    "            break\n",
    "    return results, en_em_model"
   ]
  },
  {
   "cell_type": "code",
   "execution_count": 82,
   "id": "83053815",
   "metadata": {},
   "outputs": [
    {
     "name": "stderr",
     "output_type": "stream",
     "text": [
      "Training at p_text=0.5:   2%|▏         | 1/45 [00:51<37:38, 51.33s/it]"
     ]
    },
    {
     "name": "stdout",
     "output_type": "stream",
     "text": [
      "Incorrect labels: {'Direct': 7, 'Metaphorical': 27, 'Semantic list': 7, 'Reduplication': 6, 'Single': 7}\n",
      "Epoch 0 - Train Loss: 13.37894078518482, Train accuracy: 0.3861027190332326\n",
      "Validation Accuracy: 0.556390977443609, recall: 0.3145299145299145, precision: 0.2671776288726753, f1: 0.27859013184652787\n",
      "=============================\n"
     ]
    },
    {
     "name": "stderr",
     "output_type": "stream",
     "text": [
      "Training at p_text=0.5:   4%|▍         | 2/45 [01:28<30:53, 43.11s/it]"
     ]
    },
    {
     "name": "stdout",
     "output_type": "stream",
     "text": [
      "Incorrect labels: {'Direct': 8, 'Metaphorical': 31, 'Semantic list': 7, 'Reduplication': 6, 'Single': 7}\n",
      "Epoch 1 - Train Loss: 13.142476852903975, Train accuracy: 0.44410876132930516\n",
      "Validation Accuracy: 0.518796992481203, recall: 0.28976266788766786, precision: 0.24555735930735928, f1: 0.25463244568192095\n",
      "=============================\n"
     ]
    },
    {
     "name": "stderr",
     "output_type": "stream",
     "text": [
      "Training at p_text=0.5:   7%|▋         | 3/45 [02:05<28:15, 40.37s/it]"
     ]
    },
    {
     "name": "stdout",
     "output_type": "stream",
     "text": [
      "Incorrect labels: {'Direct': 6, 'Metaphorical': 35, 'Semantic list': 7, 'Reduplication': 6, 'Single': 7}\n",
      "Epoch 2 - Train Loss: 13.123263663433967, Train accuracy: 0.43564954682779455\n",
      "Validation Accuracy: 0.5037593984962406, recall: 0.2846535409035409, precision: 0.2437878787878788, f1: 0.24449836497799146\n",
      "=============================\n"
     ]
    },
    {
     "name": "stderr",
     "output_type": "stream",
     "text": [
      "Training at p_text=0.5:   9%|▉         | 4/45 [02:43<26:47, 39.20s/it]"
     ]
    },
    {
     "name": "stdout",
     "output_type": "stream",
     "text": [
      "Incorrect labels: {'Direct': 6, 'Metaphorical': 41, 'Semantic list': 6, 'Reduplication': 6, 'Single': 7}\n",
      "Epoch 3 - Train Loss: 12.998592052053898, Train accuracy: 0.4453172205438066\n",
      "Validation Accuracy: 0.46616541353383456, recall: 0.2671573565323565, precision: 0.28305924510272334, f1: 0.2342469218785008\n",
      "=============================\n"
     ]
    },
    {
     "name": "stderr",
     "output_type": "stream",
     "text": [
      "Training at p_text=0.5:  11%|█         | 5/45 [03:20<25:39, 38.49s/it]"
     ]
    },
    {
     "name": "stdout",
     "output_type": "stream",
     "text": [
      "Incorrect labels: {'Direct': 8, 'Metaphorical': 56, 'Semantic list': 2, 'Reduplication': 6, 'Single': 7}\n",
      "Epoch 4 - Train Loss: 12.877846636670702, Train accuracy: 0.4700906344410876\n",
      "Validation Accuracy: 0.3684210526315789, recall: 0.30737408424908425, precision: 0.18192640692640694, f1: 0.1827280322017164\n",
      "=============================\n"
     ]
    },
    {
     "name": "stderr",
     "output_type": "stream",
     "text": [
      "Training at p_text=0.5:  13%|█▎        | 6/45 [03:57<24:38, 37.92s/it]"
     ]
    },
    {
     "name": "stdout",
     "output_type": "stream",
     "text": [
      "Incorrect labels: {'Direct': 12, 'Metaphorical': 54, 'Semantic list': 1, 'Reduplication': 6, 'Single': 7}\n",
      "Epoch 5 - Train Loss: 12.788621029955275, Train accuracy: 0.4719033232628399\n",
      "Validation Accuracy: 0.3609022556390977, recall: 0.322615231990232, precision: 0.225481214691741, f1: 0.19575581830200825\n",
      "=============================\n"
     ]
    },
    {
     "name": "stderr",
     "output_type": "stream",
     "text": [
      "Training at p_text=0.5:  16%|█▌        | 7/45 [04:34<23:53, 37.72s/it]"
     ]
    },
    {
     "name": "stdout",
     "output_type": "stream",
     "text": [
      "Incorrect labels: {'Direct': 14, 'Metaphorical': 52, 'Semantic list': 1, 'Reduplication': 6, 'Single': 7}\n",
      "Epoch 6 - Train Loss: 12.897010356821912, Train accuracy: 0.4368580060422961\n",
      "Validation Accuracy: 0.3609022556390977, recall: 0.3206707875457876, precision: 0.2680301928463693, f1: 0.206953971895677\n",
      "=============================\n"
     ]
    },
    {
     "name": "stderr",
     "output_type": "stream",
     "text": [
      "Training at p_text=0.5:  18%|█▊        | 8/45 [05:11<23:06, 37.48s/it]"
     ]
    },
    {
     "name": "stdout",
     "output_type": "stream",
     "text": [
      "Incorrect labels: {'Direct': 10, 'Metaphorical': 43, 'Semantic list': 1, 'Reduplication': 6, 'Single': 7}\n",
      "Epoch 7 - Train Loss: 12.624122538465135, Train accuracy: 0.4501510574018127\n",
      "Validation Accuracy: 0.45864661654135336, recall: 0.3714476495726496, precision: 0.31923701298701296, f1: 0.2716568046676406\n",
      "=============================\n"
     ]
    },
    {
     "name": "stderr",
     "output_type": "stream",
     "text": [
      "Training at p_text=0.5:  20%|██        | 9/45 [05:48<22:25, 37.38s/it]"
     ]
    },
    {
     "name": "stdout",
     "output_type": "stream",
     "text": [
      "Incorrect labels: {'Direct': 14, 'Metaphorical': 47, 'Semantic list': 1, 'Reduplication': 6, 'Single': 7}\n",
      "Epoch 8 - Train Loss: 12.340368352037794, Train accuracy: 0.4652567975830816\n",
      "Validation Accuracy: 0.39849624060150374, recall: 0.33678800366300365, precision: 0.2714155982905983, f1: 0.2334872592685093\n",
      "=============================\n"
     ]
    },
    {
     "name": "stderr",
     "output_type": "stream",
     "text": [
      "Training at p_text=0.5:  22%|██▏       | 10/45 [06:25<21:44, 37.28s/it]"
     ]
    },
    {
     "name": "stdout",
     "output_type": "stream",
     "text": [
      "Incorrect labels: {'Direct': 12, 'Metaphorical': 41, 'Semantic list': 1, 'Reduplication': 6, 'Single': 6}\n",
      "Epoch 9 - Train Loss: 12.027336709042812, Train accuracy: 0.4809667673716012\n",
      "Validation Accuracy: 0.46616541353383456, recall: 0.43091804029304026, precision: 0.3396546513342179, f1: 0.321980547388517\n",
      "=============================\n"
     ]
    },
    {
     "name": "stderr",
     "output_type": "stream",
     "text": [
      "Training at p_text=0.5:  24%|██▍       | 11/45 [07:02<21:03, 37.17s/it]"
     ]
    },
    {
     "name": "stdout",
     "output_type": "stream",
     "text": [
      "Incorrect labels: {'Direct': 11, 'Metaphorical': 49, 'Semantic list': 1, 'Reduplication': 6, 'Single': 6}\n",
      "Epoch 10 - Train Loss: 11.61053355196689, Train accuracy: 0.5027190332326285\n",
      "Validation Accuracy: 0.41353383458646614, recall: 0.4098634004884005, precision: 0.34640664160401, f1: 0.2881497157812947\n",
      "=============================\n"
     ]
    },
    {
     "name": "stderr",
     "output_type": "stream",
     "text": [
      "Training at p_text=0.5:  27%|██▋       | 12/45 [07:39<20:27, 37.18s/it]"
     ]
    },
    {
     "name": "stdout",
     "output_type": "stream",
     "text": [
      "Incorrect labels: {'Direct': 10, 'Metaphorical': 45, 'Semantic list': 1, 'Reduplication': 6, 'Single': 6}\n",
      "Epoch 11 - Train Loss: 11.048124110445062, Train accuracy: 0.5262839879154079\n",
      "Validation Accuracy: 0.45112781954887216, recall: 0.42700320512820517, precision: 0.3559683299156983, f1: 0.3122659907061435\n",
      "=============================\n"
     ]
    },
    {
     "name": "stderr",
     "output_type": "stream",
     "text": [
      "Training at p_text=0.5:  29%|██▉       | 13/45 [08:16<19:47, 37.12s/it]"
     ]
    },
    {
     "name": "stdout",
     "output_type": "stream",
     "text": [
      "Incorrect labels: {'Direct': 11, 'Metaphorical': 42, 'Semantic list': 1, 'Reduplication': 6, 'Single': 6}\n",
      "Epoch 12 - Train Loss: 10.510837849150313, Train accuracy: 0.5389728096676737\n",
      "Validation Accuracy: 0.46616541353383456, recall: 0.43352029914529916, precision: 0.3657926065162907, f1: 0.3305803295478471\n",
      "=============================\n"
     ]
    },
    {
     "name": "stderr",
     "output_type": "stream",
     "text": [
      "Training at p_text=0.5:  31%|███       | 14/45 [08:53<19:08, 37.05s/it]"
     ]
    },
    {
     "name": "stdout",
     "output_type": "stream",
     "text": [
      "Incorrect labels: {'Direct': 12, 'Metaphorical': 46, 'Semantic list': 2, 'Reduplication': 6, 'Single': 4}\n",
      "Epoch 13 - Train Loss: 9.999664468968168, Train accuracy: 0.5341389728096677\n",
      "Validation Accuracy: 0.43609022556390975, recall: 0.44073946886446885, precision: 0.36015184019832186, f1: 0.3411936387458209\n",
      "=============================\n"
     ]
    },
    {
     "name": "stderr",
     "output_type": "stream",
     "text": [
      "Training at p_text=0.5:  33%|███▎      | 15/45 [09:30<18:29, 36.97s/it]"
     ]
    },
    {
     "name": "stdout",
     "output_type": "stream",
     "text": [
      "Incorrect labels: {'Direct': 12, 'Metaphorical': 47, 'Semantic list': 2, 'Reduplication': 6, 'Single': 3}\n",
      "Epoch 14 - Train Loss: 9.46601452725999, Train accuracy: 0.5770392749244713\n",
      "Validation Accuracy: 0.43609022556390975, recall: 0.45323946886446886, precision: 0.37569444444444444, f1: 0.33225924395526224\n",
      "=============================\n"
     ]
    },
    {
     "name": "stderr",
     "output_type": "stream",
     "text": [
      "Training at p_text=0.5:  36%|███▌      | 16/45 [10:07<17:51, 36.94s/it]"
     ]
    },
    {
     "name": "stdout",
     "output_type": "stream",
     "text": [
      "Incorrect labels: {'Direct': 12, 'Metaphorical': 46, 'Semantic list': 2, 'Reduplication': 6, 'Single': 3}\n",
      "Epoch 15 - Train Loss: 9.074388118500405, Train accuracy: 0.5673716012084592\n",
      "Validation Accuracy: 0.44360902255639095, recall: 0.4574061355311355, precision: 0.3483312447786132, f1: 0.33728376797933246\n",
      "=============================\n"
     ]
    },
    {
     "name": "stderr",
     "output_type": "stream",
     "text": [
      "Training at p_text=0.5:  38%|███▊      | 17/45 [10:44<17:16, 37.02s/it]"
     ]
    },
    {
     "name": "stdout",
     "output_type": "stream",
     "text": [
      "Incorrect labels: {'Direct': 12, 'Metaphorical': 46, 'Semantic list': 2, 'Reduplication': 6, 'Single': 3}\n",
      "Epoch 16 - Train Loss: 8.619037110754784, Train accuracy: 0.5788519637462236\n",
      "Validation Accuracy: 0.44360902255639095, recall: 0.4574061355311355, precision: 0.36069055213792056, f1: 0.3456297515340446\n",
      "=============================\n"
     ]
    },
    {
     "name": "stderr",
     "output_type": "stream",
     "text": [
      "Training at p_text=0.5:  40%|████      | 18/45 [11:21<16:41, 37.08s/it]"
     ]
    },
    {
     "name": "stdout",
     "output_type": "stream",
     "text": [
      "Incorrect labels: {'Direct': 13, 'Metaphorical': 39, 'Semantic list': 2, 'Reduplication': 6, 'Single': 3}\n",
      "Epoch 17 - Train Loss: 8.245330678655746, Train accuracy: 0.5975830815709969\n",
      "Validation Accuracy: 0.48872180451127817, recall: 0.47926968864468866, precision: 0.3879570863433092, f1: 0.3854976489028213\n",
      "=============================\n"
     ]
    },
    {
     "name": "stderr",
     "output_type": "stream",
     "text": [
      "Training at p_text=0.5:  42%|████▏     | 19/45 [11:58<16:04, 37.10s/it]"
     ]
    },
    {
     "name": "stdout",
     "output_type": "stream",
     "text": [
      "Incorrect labels: {'Direct': 17, 'Metaphorical': 31, 'Semantic list': 2, 'Reduplication': 6, 'Single': 3}\n",
      "Epoch 18 - Train Loss: 7.967877743091989, Train accuracy: 0.6054380664652568\n",
      "Validation Accuracy: 0.518796992481203, recall: 0.49416895604395605, precision: 0.4254844501903326, f1: 0.42936072263845876\n",
      "=============================\n"
     ]
    },
    {
     "name": "stderr",
     "output_type": "stream",
     "text": [
      "Training at p_text=0.5:  44%|████▍     | 20/45 [12:35<15:26, 37.07s/it]"
     ]
    },
    {
     "name": "stdout",
     "output_type": "stream",
     "text": [
      "Incorrect labels: {'Direct': 13, 'Metaphorical': 37, 'Semantic list': 2, 'Reduplication': 6, 'Single': 3}\n",
      "Epoch 19 - Train Loss: 7.633478174818323, Train accuracy: 0.6187311178247734\n",
      "Validation Accuracy: 0.5037593984962406, recall: 0.4845047313797314, precision: 0.42456349206349203, f1: 0.4227615663120756\n",
      "=============================\n"
     ]
    },
    {
     "name": "stderr",
     "output_type": "stream",
     "text": [
      "Training at p_text=0.5:  47%|████▋     | 21/45 [13:12<14:48, 37.03s/it]"
     ]
    },
    {
     "name": "stdout",
     "output_type": "stream",
     "text": [
      "Incorrect labels: {'Direct': 12, 'Metaphorical': 41, 'Semantic list': 2, 'Reduplication': 6, 'Single': 3}\n",
      "Epoch 20 - Train Loss: 7.391809646119463, Train accuracy: 0.6356495468277945\n",
      "Validation Accuracy: 0.48120300751879697, recall: 0.47738476800976803, precision: 0.42444444444444446, f1: 0.4074166099657214\n",
      "=============================\n"
     ]
    },
    {
     "name": "stderr",
     "output_type": "stream",
     "text": [
      "Training at p_text=0.5:  49%|████▉     | 22/45 [13:50<14:13, 37.12s/it]"
     ]
    },
    {
     "name": "stdout",
     "output_type": "stream",
     "text": [
      "Incorrect labels: {'Direct': 11, 'Metaphorical': 41, 'Semantic list': 2, 'Reduplication': 6, 'Single': 3}\n",
      "Epoch 21 - Train Loss: 7.1139248989998025, Train accuracy: 0.6549848942598188\n",
      "Validation Accuracy: 0.48872180451127817, recall: 0.48123092185592187, precision: 0.4212092731829574, f1: 0.41489341250854406\n",
      "=============================\n"
     ]
    },
    {
     "name": "stderr",
     "output_type": "stream",
     "text": [
      "Training at p_text=0.5:  51%|█████     | 23/45 [14:27<13:37, 37.15s/it]"
     ]
    },
    {
     "name": "stdout",
     "output_type": "stream",
     "text": [
      "Incorrect labels: {'Direct': 11, 'Metaphorical': 42, 'Semantic list': 2, 'Reduplication': 5, 'Single': 3}\n",
      "Epoch 22 - Train Loss: 6.920947429981638, Train accuracy: 0.6549848942598188\n",
      "Validation Accuracy: 0.48872180451127817, recall: 0.5026594932844932, precision: 0.47452380952380957, f1: 0.444043257229041\n",
      "=============================\n"
     ]
    },
    {
     "name": "stderr",
     "output_type": "stream",
     "text": [
      "Training at p_text=0.5:  53%|█████▎    | 24/45 [15:05<13:03, 37.31s/it]"
     ]
    },
    {
     "name": "stdout",
     "output_type": "stream",
     "text": [
      "Incorrect labels: {'Direct': 14, 'Metaphorical': 35, 'Semantic list': 2, 'Reduplication': 5, 'Single': 3}\n",
      "Epoch 23 - Train Loss: 6.718915452348425, Train accuracy: 0.6634441087613293\n",
      "Validation Accuracy: 0.518796992481203, recall: 0.5159394078144078, precision: 0.48798146561256084, f1: 0.47114756258234514\n",
      "=============================\n"
     ]
    },
    {
     "name": "stderr",
     "output_type": "stream",
     "text": [
      "Training at p_text=0.5:  56%|█████▌    | 25/45 [15:41<12:23, 37.16s/it]"
     ]
    },
    {
     "name": "stdout",
     "output_type": "stream",
     "text": [
      "Incorrect labels: {'Direct': 11, 'Metaphorical': 39, 'Semantic list': 2, 'Reduplication': 5, 'Single': 3}\n",
      "Epoch 24 - Train Loss: 6.523873258144297, Train accuracy: 0.6652567975830815\n",
      "Validation Accuracy: 0.5112781954887218, recall: 0.513816391941392, precision: 0.4940068922305764, f1: 0.4658621057934805\n",
      "=============================\n"
     ]
    },
    {
     "name": "stderr",
     "output_type": "stream",
     "text": [
      "Training at p_text=0.5:  58%|█████▊    | 26/45 [16:19<11:45, 37.13s/it]"
     ]
    },
    {
     "name": "stdout",
     "output_type": "stream",
     "text": [
      "Incorrect labels: {'Direct': 16, 'Metaphorical': 33, 'Semantic list': 2, 'Reduplication': 5, 'Single': 3}\n",
      "Epoch 25 - Train Loss: 6.314811300724111, Train accuracy: 0.6827794561933535\n",
      "Validation Accuracy: 0.518796992481203, recall: 0.5133997252747253, precision: 0.48353624214837454, f1: 0.4723672794250005\n",
      "=============================\n"
     ]
    },
    {
     "name": "stderr",
     "output_type": "stream",
     "text": [
      "Training at p_text=0.5:  60%|██████    | 27/45 [16:56<11:11, 37.29s/it]"
     ]
    },
    {
     "name": "stdout",
     "output_type": "stream",
     "text": [
      "Incorrect labels: {'Direct': 11, 'Metaphorical': 44, 'Semantic list': 2, 'Reduplication': 4, 'Single': 3}\n",
      "Epoch 26 - Train Loss: 6.17153955013194, Train accuracy: 0.6858006042296072\n",
      "Validation Accuracy: 0.48120300751879697, recall: 0.519921398046398, precision: 0.49557957393483715, f1: 0.4643358405701924\n",
      "=============================\n"
     ]
    },
    {
     "name": "stderr",
     "output_type": "stream",
     "text": [
      "Training at p_text=0.5:  62%|██████▏   | 28/45 [17:33<10:31, 37.17s/it]"
     ]
    },
    {
     "name": "stdout",
     "output_type": "stream",
     "text": [
      "Incorrect labels: {'Direct': 14, 'Metaphorical': 38, 'Semantic list': 2, 'Reduplication': 4, 'Single': 3}\n",
      "Epoch 27 - Train Loss: 6.023402437250665, Train accuracy: 0.6870090634441087\n",
      "Validation Accuracy: 0.5037593984962406, recall: 0.5308661477411478, precision: 0.5113035652857635, f1: 0.48957420402178464\n",
      "=============================\n"
     ]
    },
    {
     "name": "stderr",
     "output_type": "stream",
     "text": [
      "Training at p_text=0.5:  64%|██████▍   | 29/45 [18:10<09:54, 37.13s/it]"
     ]
    },
    {
     "name": "stdout",
     "output_type": "stream",
     "text": [
      "Incorrect labels: {'Direct': 14, 'Metaphorical': 39, 'Semantic list': 2, 'Reduplication': 4, 'Single': 3}\n",
      "Epoch 28 - Train Loss: 5.879421386312931, Train accuracy: 0.7075528700906344\n",
      "Validation Accuracy: 0.49624060150375937, recall: 0.5255456349206349, precision: 0.4980380639097744, f1: 0.4777903225806452\n",
      "=============================\n"
     ]
    },
    {
     "name": "stderr",
     "output_type": "stream",
     "text": [
      "Training at p_text=0.5:  67%|██████▋   | 30/45 [19:40<13:12, 52.86s/it]"
     ]
    },
    {
     "name": "stdout",
     "output_type": "stream",
     "text": [
      "Incorrect labels: {'Direct': 10, 'Metaphorical': 42, 'Semantic list': 2, 'Reduplication': 4, 'Single': 3}\n",
      "Epoch 29 - Train Loss: 5.736694579428815, Train accuracy: 0.7087613293051359\n",
      "Validation Accuracy: 0.5037593984962406, recall: 0.5327648046398047, precision: 0.5303038847117795, f1: 0.5016615160556976\n",
      "=============================\n"
     ]
    },
    {
     "name": "stderr",
     "output_type": "stream",
     "text": [
      "Training at p_text=0.5:  69%|██████▉   | 31/45 [20:58<14:07, 60.54s/it]"
     ]
    },
    {
     "name": "stdout",
     "output_type": "stream",
     "text": [
      "Incorrect labels: {'Direct': 14, 'Metaphorical': 39, 'Semantic list': 2, 'Reduplication': 4, 'Single': 3}\n",
      "Epoch 30 - Train Loss: 5.664535370278866, Train accuracy: 0.7148036253776435\n",
      "Validation Accuracy: 0.49624060150375937, recall: 0.5266765873015874, precision: 0.5268575083542189, f1: 0.4982257104454685\n",
      "=============================\n"
     ]
    },
    {
     "name": "stderr",
     "output_type": "stream",
     "text": [
      "Training at p_text=0.5:  71%|███████   | 32/45 [21:35<11:35, 53.48s/it]"
     ]
    },
    {
     "name": "stdout",
     "output_type": "stream",
     "text": [
      "Incorrect labels: {'Direct': 14, 'Metaphorical': 38, 'Semantic list': 2, 'Reduplication': 4, 'Single': 3}\n",
      "Epoch 31 - Train Loss: 5.517680868189386, Train accuracy: 0.7274924471299093\n",
      "Validation Accuracy: 0.5037593984962406, recall: 0.5321253052503052, precision: 0.5198534018870706, f1: 0.5054071844471564\n",
      "=============================\n"
     ]
    },
    {
     "name": "stderr",
     "output_type": "stream",
     "text": [
      "Training at p_text=0.5:  73%|███████▎  | 33/45 [22:12<09:42, 48.51s/it]"
     ]
    },
    {
     "name": "stdout",
     "output_type": "stream",
     "text": [
      "Incorrect labels: {'Direct': 16, 'Metaphorical': 29, 'Semantic list': 2, 'Reduplication': 4, 'Single': 3}\n",
      "Epoch 32 - Train Loss: 5.435856859734717, Train accuracy: 0.7280966767371602\n",
      "Validation Accuracy: 0.556390977443609, recall: 0.55560057997558, precision: 0.5528787878787879, f1: 0.5378397051474263\n",
      "=============================\n"
     ]
    },
    {
     "name": "stderr",
     "output_type": "stream",
     "text": [
      "Training at p_text=0.5:  76%|███████▌  | 34/45 [22:49<08:15, 45.04s/it]"
     ]
    },
    {
     "name": "stdout",
     "output_type": "stream",
     "text": [
      "Incorrect labels: {'Direct': 14, 'Metaphorical': 33, 'Semantic list': 2, 'Reduplication': 4, 'Single': 3}\n",
      "Epoch 33 - Train Loss: 5.32913728470498, Train accuracy: 0.743202416918429\n",
      "Validation Accuracy: 0.5413533834586466, recall: 0.5511958180708181, precision: 0.541687552213868, f1: 0.5303902366213207\n",
      "=============================\n"
     ]
    },
    {
     "name": "stderr",
     "output_type": "stream",
     "text": [
      "Training at p_text=0.5:  78%|███████▊  | 35/45 [23:26<07:07, 42.72s/it]"
     ]
    },
    {
     "name": "stdout",
     "output_type": "stream",
     "text": [
      "Incorrect labels: {'Direct': 12, 'Metaphorical': 39, 'Semantic list': 2, 'Reduplication': 4, 'Single': 3}\n",
      "Epoch 34 - Train Loss: 5.237348434772898, Train accuracy: 0.7486404833836858\n",
      "Validation Accuracy: 0.5112781954887218, recall: 0.5365270146520146, precision: 0.5269531979458449, f1: 0.5096060442996273\n",
      "=============================\n"
     ]
    },
    {
     "name": "stderr",
     "output_type": "stream",
     "text": [
      "Training at p_text=0.5:  80%|████████  | 36/45 [24:03<06:08, 40.98s/it]"
     ]
    },
    {
     "name": "stdout",
     "output_type": "stream",
     "text": [
      "Incorrect labels: {'Direct': 12, 'Metaphorical': 39, 'Semantic list': 2, 'Reduplication': 4, 'Single': 3}\n",
      "Epoch 35 - Train Loss: 5.160521010135082, Train accuracy: 0.7498489425981874\n",
      "Validation Accuracy: 0.5112781954887218, recall: 0.5365270146520146, precision: 0.5269531979458449, f1: 0.5096060442996273\n",
      "=============================\n"
     ]
    },
    {
     "name": "stderr",
     "output_type": "stream",
     "text": [
      "Training at p_text=0.5:  82%|████████▏ | 37/45 [24:41<05:19, 39.92s/it]"
     ]
    },
    {
     "name": "stdout",
     "output_type": "stream",
     "text": [
      "Incorrect labels: {'Direct': 11, 'Metaphorical': 40, 'Semantic list': 2, 'Reduplication': 4, 'Single': 3}\n",
      "Epoch 36 - Train Loss: 5.100844697749361, Train accuracy: 0.7546827794561933\n",
      "Validation Accuracy: 0.5112781954887218, recall: 0.5356936813186812, precision: 0.5219135154061624, f1: 0.5060532228520691\n",
      "=============================\n"
     ]
    },
    {
     "name": "stderr",
     "output_type": "stream",
     "text": [
      "Training at p_text=0.5:  84%|████████▍ | 38/45 [25:19<04:35, 39.30s/it]"
     ]
    },
    {
     "name": "stdout",
     "output_type": "stream",
     "text": [
      "Incorrect labels: {'Direct': 13, 'Metaphorical': 37, 'Semantic list': 2, 'Reduplication': 4, 'Single': 3}\n",
      "Epoch 37 - Train Loss: 5.022783796837989, Train accuracy: 0.7655589123867069\n",
      "Validation Accuracy: 0.518796992481203, recall: 0.539823717948718, precision: 0.5279452614379084, f1: 0.5131156333490147\n",
      "=============================\n"
     ]
    },
    {
     "name": "stderr",
     "output_type": "stream",
     "text": [
      "Training at p_text=0.5:  87%|████████▋ | 39/45 [25:57<03:53, 38.92s/it]"
     ]
    },
    {
     "name": "stdout",
     "output_type": "stream",
     "text": [
      "Incorrect labels: {'Direct': 12, 'Metaphorical': 35, 'Semantic list': 2, 'Reduplication': 4, 'Single': 3}\n",
      "Epoch 38 - Train Loss: 4.9756677911636675, Train accuracy: 0.7673716012084593\n",
      "Validation Accuracy: 0.5413533834586466, recall: 0.5520489926739927, precision: 0.5409753787878788, f1: 0.5280017313557298\n",
      "=============================\n"
     ]
    },
    {
     "name": "stderr",
     "output_type": "stream",
     "text": [
      "Training at p_text=0.5:  89%|████████▉ | 40/45 [26:34<03:12, 38.47s/it]"
     ]
    },
    {
     "name": "stdout",
     "output_type": "stream",
     "text": [
      "Incorrect labels: {'Direct': 15, 'Metaphorical': 28, 'Semantic list': 2, 'Reduplication': 4, 'Single': 3}\n",
      "Epoch 39 - Train Loss: 4.909768459644724, Train accuracy: 0.7746223564954683\n",
      "Validation Accuracy: 0.5714285714285714, recall: 0.5645352564102565, precision: 0.5507658354717179, f1: 0.5473419699643464\n",
      "=============================\n"
     ]
    },
    {
     "name": "stderr",
     "output_type": "stream",
     "text": [
      "Training at p_text=0.5:  91%|█████████ | 41/45 [27:11<02:32, 38.13s/it]"
     ]
    },
    {
     "name": "stdout",
     "output_type": "stream",
     "text": [
      "Incorrect labels: {'Direct': 11, 'Metaphorical': 37, 'Semantic list': 2, 'Reduplication': 4, 'Single': 3}\n",
      "Epoch 40 - Train Loss: 4.8507456170751695, Train accuracy: 0.7830815709969788\n",
      "Validation Accuracy: 0.5338345864661654, recall: 0.5470032051282051, precision: 0.5371296808196963, f1: 0.5214052867238698\n",
      "=============================\n"
     ]
    },
    {
     "name": "stderr",
     "output_type": "stream",
     "text": [
      "Training at p_text=0.5:  93%|█████████▎| 42/45 [27:49<01:53, 37.90s/it]"
     ]
    },
    {
     "name": "stdout",
     "output_type": "stream",
     "text": [
      "Incorrect labels: {'Direct': 14, 'Metaphorical': 34, 'Semantic list': 2, 'Reduplication': 4, 'Single': 3}\n",
      "Epoch 41 - Train Loss: 4.790947792377878, Train accuracy: 0.7854984894259819\n",
      "Validation Accuracy: 0.5338345864661654, recall: 0.5448069291819292, precision: 0.5309027777777777, f1: 0.5240448102436362\n",
      "=============================\n"
     ]
    },
    {
     "name": "stderr",
     "output_type": "stream",
     "text": [
      "Training at p_text=0.5:  96%|█████████▌| 43/45 [28:26<01:15, 37.62s/it]"
     ]
    },
    {
     "name": "stdout",
     "output_type": "stream",
     "text": [
      "Incorrect labels: {'Direct': 11, 'Metaphorical': 37, 'Semantic list': 2, 'Reduplication': 4, 'Single': 3}\n",
      "Epoch 42 - Train Loss: 4.715734136865494, Train accuracy: 0.7963746223564955\n",
      "Validation Accuracy: 0.5338345864661654, recall: 0.546407967032967, precision: 0.5346119281045751, f1: 0.5202711091650796\n",
      "=============================\n"
     ]
    },
    {
     "name": "stderr",
     "output_type": "stream",
     "text": [
      "Training at p_text=0.5:  98%|█████████▊| 44/45 [29:33<00:46, 46.64s/it]"
     ]
    },
    {
     "name": "stdout",
     "output_type": "stream",
     "text": [
      "Incorrect labels: {'Direct': 15, 'Metaphorical': 30, 'Semantic list': 2, 'Reduplication': 4, 'Single': 3}\n",
      "Epoch 43 - Train Loss: 4.62785823294457, Train accuracy: 0.8078549848942598\n",
      "Validation Accuracy: 0.556390977443609, recall: 0.5539797008547008, precision: 0.5388392163392164, f1: 0.5370568669835911\n",
      "=============================\n"
     ]
    },
    {
     "name": "stderr",
     "output_type": "stream",
     "text": [
      "Training at p_text=0.5: 100%|██████████| 45/45 [31:16<00:00, 41.70s/it]"
     ]
    },
    {
     "name": "stdout",
     "output_type": "stream",
     "text": [
      "Incorrect labels: {'Direct': 15, 'Metaphorical': 30, 'Semantic list': 2, 'Reduplication': 4, 'Single': 3}\n",
      "Epoch 44 - Train Loss: 4.608934229992806, Train accuracy: 0.8096676737160121\n",
      "Validation Accuracy: 0.556390977443609, recall: 0.5539797008547008, precision: 0.5388392163392164, f1: 0.5370568669835911\n",
      "=============================\n"
     ]
    },
    {
     "name": "stderr",
     "output_type": "stream",
     "text": [
      "\n"
     ]
    },
    {
     "data": {
      "text/plain": [
       "([{'train_accuracy': 0.3861027190332326,\n",
       "   'validation_accuracy': 0.556390977443609,\n",
       "   'recall': 0.3145299145299145,\n",
       "   'precision': 0.2671776288726753,\n",
       "   'f1': 0.27859013184652787,\n",
       "   'incorrect_labels': {'Direct': 7,\n",
       "    'Metaphorical': 27,\n",
       "    'Semantic list': 7,\n",
       "    'Reduplication': 6,\n",
       "    'Single': 7}},\n",
       "  {'train_accuracy': 0.44410876132930516,\n",
       "   'validation_accuracy': 0.518796992481203,\n",
       "   'recall': 0.28976266788766786,\n",
       "   'precision': 0.24555735930735928,\n",
       "   'f1': 0.25463244568192095,\n",
       "   'incorrect_labels': {'Direct': 8,\n",
       "    'Metaphorical': 31,\n",
       "    'Semantic list': 7,\n",
       "    'Reduplication': 6,\n",
       "    'Single': 7}},\n",
       "  {'train_accuracy': 0.43564954682779455,\n",
       "   'validation_accuracy': 0.5037593984962406,\n",
       "   'recall': 0.2846535409035409,\n",
       "   'precision': 0.2437878787878788,\n",
       "   'f1': 0.24449836497799146,\n",
       "   'incorrect_labels': {'Direct': 6,\n",
       "    'Metaphorical': 35,\n",
       "    'Semantic list': 7,\n",
       "    'Reduplication': 6,\n",
       "    'Single': 7}},\n",
       "  {'train_accuracy': 0.4453172205438066,\n",
       "   'validation_accuracy': 0.46616541353383456,\n",
       "   'recall': 0.2671573565323565,\n",
       "   'precision': 0.28305924510272334,\n",
       "   'f1': 0.2342469218785008,\n",
       "   'incorrect_labels': {'Direct': 6,\n",
       "    'Metaphorical': 41,\n",
       "    'Semantic list': 6,\n",
       "    'Reduplication': 6,\n",
       "    'Single': 7}},\n",
       "  {'train_accuracy': 0.4700906344410876,\n",
       "   'validation_accuracy': 0.3684210526315789,\n",
       "   'recall': 0.30737408424908425,\n",
       "   'precision': 0.18192640692640694,\n",
       "   'f1': 0.1827280322017164,\n",
       "   'incorrect_labels': {'Direct': 8,\n",
       "    'Metaphorical': 56,\n",
       "    'Semantic list': 2,\n",
       "    'Reduplication': 6,\n",
       "    'Single': 7}},\n",
       "  {'train_accuracy': 0.4719033232628399,\n",
       "   'validation_accuracy': 0.3609022556390977,\n",
       "   'recall': 0.322615231990232,\n",
       "   'precision': 0.225481214691741,\n",
       "   'f1': 0.19575581830200825,\n",
       "   'incorrect_labels': {'Direct': 12,\n",
       "    'Metaphorical': 54,\n",
       "    'Semantic list': 1,\n",
       "    'Reduplication': 6,\n",
       "    'Single': 7}},\n",
       "  {'train_accuracy': 0.4368580060422961,\n",
       "   'validation_accuracy': 0.3609022556390977,\n",
       "   'recall': 0.3206707875457876,\n",
       "   'precision': 0.2680301928463693,\n",
       "   'f1': 0.206953971895677,\n",
       "   'incorrect_labels': {'Direct': 14,\n",
       "    'Metaphorical': 52,\n",
       "    'Semantic list': 1,\n",
       "    'Reduplication': 6,\n",
       "    'Single': 7}},\n",
       "  {'train_accuracy': 0.4501510574018127,\n",
       "   'validation_accuracy': 0.45864661654135336,\n",
       "   'recall': 0.3714476495726496,\n",
       "   'precision': 0.31923701298701296,\n",
       "   'f1': 0.2716568046676406,\n",
       "   'incorrect_labels': {'Direct': 10,\n",
       "    'Metaphorical': 43,\n",
       "    'Semantic list': 1,\n",
       "    'Reduplication': 6,\n",
       "    'Single': 7}},\n",
       "  {'train_accuracy': 0.4652567975830816,\n",
       "   'validation_accuracy': 0.39849624060150374,\n",
       "   'recall': 0.33678800366300365,\n",
       "   'precision': 0.2714155982905983,\n",
       "   'f1': 0.2334872592685093,\n",
       "   'incorrect_labels': {'Direct': 14,\n",
       "    'Metaphorical': 47,\n",
       "    'Semantic list': 1,\n",
       "    'Reduplication': 6,\n",
       "    'Single': 7}},\n",
       "  {'train_accuracy': 0.4809667673716012,\n",
       "   'validation_accuracy': 0.46616541353383456,\n",
       "   'recall': 0.43091804029304026,\n",
       "   'precision': 0.3396546513342179,\n",
       "   'f1': 0.321980547388517,\n",
       "   'incorrect_labels': {'Direct': 12,\n",
       "    'Metaphorical': 41,\n",
       "    'Semantic list': 1,\n",
       "    'Reduplication': 6,\n",
       "    'Single': 6}},\n",
       "  {'train_accuracy': 0.5027190332326285,\n",
       "   'validation_accuracy': 0.41353383458646614,\n",
       "   'recall': 0.4098634004884005,\n",
       "   'precision': 0.34640664160401,\n",
       "   'f1': 0.2881497157812947,\n",
       "   'incorrect_labels': {'Direct': 11,\n",
       "    'Metaphorical': 49,\n",
       "    'Semantic list': 1,\n",
       "    'Reduplication': 6,\n",
       "    'Single': 6}},\n",
       "  {'train_accuracy': 0.5262839879154079,\n",
       "   'validation_accuracy': 0.45112781954887216,\n",
       "   'recall': 0.42700320512820517,\n",
       "   'precision': 0.3559683299156983,\n",
       "   'f1': 0.3122659907061435,\n",
       "   'incorrect_labels': {'Direct': 10,\n",
       "    'Metaphorical': 45,\n",
       "    'Semantic list': 1,\n",
       "    'Reduplication': 6,\n",
       "    'Single': 6}},\n",
       "  {'train_accuracy': 0.5389728096676737,\n",
       "   'validation_accuracy': 0.46616541353383456,\n",
       "   'recall': 0.43352029914529916,\n",
       "   'precision': 0.3657926065162907,\n",
       "   'f1': 0.3305803295478471,\n",
       "   'incorrect_labels': {'Direct': 11,\n",
       "    'Metaphorical': 42,\n",
       "    'Semantic list': 1,\n",
       "    'Reduplication': 6,\n",
       "    'Single': 6}},\n",
       "  {'train_accuracy': 0.5341389728096677,\n",
       "   'validation_accuracy': 0.43609022556390975,\n",
       "   'recall': 0.44073946886446885,\n",
       "   'precision': 0.36015184019832186,\n",
       "   'f1': 0.3411936387458209,\n",
       "   'incorrect_labels': {'Direct': 12,\n",
       "    'Metaphorical': 46,\n",
       "    'Semantic list': 2,\n",
       "    'Reduplication': 6,\n",
       "    'Single': 4}},\n",
       "  {'train_accuracy': 0.5770392749244713,\n",
       "   'validation_accuracy': 0.43609022556390975,\n",
       "   'recall': 0.45323946886446886,\n",
       "   'precision': 0.37569444444444444,\n",
       "   'f1': 0.33225924395526224,\n",
       "   'incorrect_labels': {'Direct': 12,\n",
       "    'Metaphorical': 47,\n",
       "    'Semantic list': 2,\n",
       "    'Reduplication': 6,\n",
       "    'Single': 3}},\n",
       "  {'train_accuracy': 0.5673716012084592,\n",
       "   'validation_accuracy': 0.44360902255639095,\n",
       "   'recall': 0.4574061355311355,\n",
       "   'precision': 0.3483312447786132,\n",
       "   'f1': 0.33728376797933246,\n",
       "   'incorrect_labels': {'Direct': 12,\n",
       "    'Metaphorical': 46,\n",
       "    'Semantic list': 2,\n",
       "    'Reduplication': 6,\n",
       "    'Single': 3}},\n",
       "  {'train_accuracy': 0.5788519637462236,\n",
       "   'validation_accuracy': 0.44360902255639095,\n",
       "   'recall': 0.4574061355311355,\n",
       "   'precision': 0.36069055213792056,\n",
       "   'f1': 0.3456297515340446,\n",
       "   'incorrect_labels': {'Direct': 12,\n",
       "    'Metaphorical': 46,\n",
       "    'Semantic list': 2,\n",
       "    'Reduplication': 6,\n",
       "    'Single': 3}},\n",
       "  {'train_accuracy': 0.5975830815709969,\n",
       "   'validation_accuracy': 0.48872180451127817,\n",
       "   'recall': 0.47926968864468866,\n",
       "   'precision': 0.3879570863433092,\n",
       "   'f1': 0.3854976489028213,\n",
       "   'incorrect_labels': {'Direct': 13,\n",
       "    'Metaphorical': 39,\n",
       "    'Semantic list': 2,\n",
       "    'Reduplication': 6,\n",
       "    'Single': 3}},\n",
       "  {'train_accuracy': 0.6054380664652568,\n",
       "   'validation_accuracy': 0.518796992481203,\n",
       "   'recall': 0.49416895604395605,\n",
       "   'precision': 0.4254844501903326,\n",
       "   'f1': 0.42936072263845876,\n",
       "   'incorrect_labels': {'Direct': 17,\n",
       "    'Metaphorical': 31,\n",
       "    'Semantic list': 2,\n",
       "    'Reduplication': 6,\n",
       "    'Single': 3}},\n",
       "  {'train_accuracy': 0.6187311178247734,\n",
       "   'validation_accuracy': 0.5037593984962406,\n",
       "   'recall': 0.4845047313797314,\n",
       "   'precision': 0.42456349206349203,\n",
       "   'f1': 0.4227615663120756,\n",
       "   'incorrect_labels': {'Direct': 13,\n",
       "    'Metaphorical': 37,\n",
       "    'Semantic list': 2,\n",
       "    'Reduplication': 6,\n",
       "    'Single': 3}},\n",
       "  {'train_accuracy': 0.6356495468277945,\n",
       "   'validation_accuracy': 0.48120300751879697,\n",
       "   'recall': 0.47738476800976803,\n",
       "   'precision': 0.42444444444444446,\n",
       "   'f1': 0.4074166099657214,\n",
       "   'incorrect_labels': {'Direct': 12,\n",
       "    'Metaphorical': 41,\n",
       "    'Semantic list': 2,\n",
       "    'Reduplication': 6,\n",
       "    'Single': 3}},\n",
       "  {'train_accuracy': 0.6549848942598188,\n",
       "   'validation_accuracy': 0.48872180451127817,\n",
       "   'recall': 0.48123092185592187,\n",
       "   'precision': 0.4212092731829574,\n",
       "   'f1': 0.41489341250854406,\n",
       "   'incorrect_labels': {'Direct': 11,\n",
       "    'Metaphorical': 41,\n",
       "    'Semantic list': 2,\n",
       "    'Reduplication': 6,\n",
       "    'Single': 3}},\n",
       "  {'train_accuracy': 0.6549848942598188,\n",
       "   'validation_accuracy': 0.48872180451127817,\n",
       "   'recall': 0.5026594932844932,\n",
       "   'precision': 0.47452380952380957,\n",
       "   'f1': 0.444043257229041,\n",
       "   'incorrect_labels': {'Direct': 11,\n",
       "    'Metaphorical': 42,\n",
       "    'Semantic list': 2,\n",
       "    'Reduplication': 5,\n",
       "    'Single': 3}},\n",
       "  {'train_accuracy': 0.6634441087613293,\n",
       "   'validation_accuracy': 0.518796992481203,\n",
       "   'recall': 0.5159394078144078,\n",
       "   'precision': 0.48798146561256084,\n",
       "   'f1': 0.47114756258234514,\n",
       "   'incorrect_labels': {'Direct': 14,\n",
       "    'Metaphorical': 35,\n",
       "    'Semantic list': 2,\n",
       "    'Reduplication': 5,\n",
       "    'Single': 3}},\n",
       "  {'train_accuracy': 0.6652567975830815,\n",
       "   'validation_accuracy': 0.5112781954887218,\n",
       "   'recall': 0.513816391941392,\n",
       "   'precision': 0.4940068922305764,\n",
       "   'f1': 0.4658621057934805,\n",
       "   'incorrect_labels': {'Direct': 11,\n",
       "    'Metaphorical': 39,\n",
       "    'Semantic list': 2,\n",
       "    'Reduplication': 5,\n",
       "    'Single': 3}},\n",
       "  {'train_accuracy': 0.6827794561933535,\n",
       "   'validation_accuracy': 0.518796992481203,\n",
       "   'recall': 0.5133997252747253,\n",
       "   'precision': 0.48353624214837454,\n",
       "   'f1': 0.4723672794250005,\n",
       "   'incorrect_labels': {'Direct': 16,\n",
       "    'Metaphorical': 33,\n",
       "    'Semantic list': 2,\n",
       "    'Reduplication': 5,\n",
       "    'Single': 3}},\n",
       "  {'train_accuracy': 0.6858006042296072,\n",
       "   'validation_accuracy': 0.48120300751879697,\n",
       "   'recall': 0.519921398046398,\n",
       "   'precision': 0.49557957393483715,\n",
       "   'f1': 0.4643358405701924,\n",
       "   'incorrect_labels': {'Direct': 11,\n",
       "    'Metaphorical': 44,\n",
       "    'Semantic list': 2,\n",
       "    'Reduplication': 4,\n",
       "    'Single': 3}},\n",
       "  {'train_accuracy': 0.6870090634441087,\n",
       "   'validation_accuracy': 0.5037593984962406,\n",
       "   'recall': 0.5308661477411478,\n",
       "   'precision': 0.5113035652857635,\n",
       "   'f1': 0.48957420402178464,\n",
       "   'incorrect_labels': {'Direct': 14,\n",
       "    'Metaphorical': 38,\n",
       "    'Semantic list': 2,\n",
       "    'Reduplication': 4,\n",
       "    'Single': 3}},\n",
       "  {'train_accuracy': 0.7075528700906344,\n",
       "   'validation_accuracy': 0.49624060150375937,\n",
       "   'recall': 0.5255456349206349,\n",
       "   'precision': 0.4980380639097744,\n",
       "   'f1': 0.4777903225806452,\n",
       "   'incorrect_labels': {'Direct': 14,\n",
       "    'Metaphorical': 39,\n",
       "    'Semantic list': 2,\n",
       "    'Reduplication': 4,\n",
       "    'Single': 3}},\n",
       "  {'train_accuracy': 0.7087613293051359,\n",
       "   'validation_accuracy': 0.5037593984962406,\n",
       "   'recall': 0.5327648046398047,\n",
       "   'precision': 0.5303038847117795,\n",
       "   'f1': 0.5016615160556976,\n",
       "   'incorrect_labels': {'Direct': 10,\n",
       "    'Metaphorical': 42,\n",
       "    'Semantic list': 2,\n",
       "    'Reduplication': 4,\n",
       "    'Single': 3}},\n",
       "  {'train_accuracy': 0.7148036253776435,\n",
       "   'validation_accuracy': 0.49624060150375937,\n",
       "   'recall': 0.5266765873015874,\n",
       "   'precision': 0.5268575083542189,\n",
       "   'f1': 0.4982257104454685,\n",
       "   'incorrect_labels': {'Direct': 14,\n",
       "    'Metaphorical': 39,\n",
       "    'Semantic list': 2,\n",
       "    'Reduplication': 4,\n",
       "    'Single': 3}},\n",
       "  {'train_accuracy': 0.7274924471299093,\n",
       "   'validation_accuracy': 0.5037593984962406,\n",
       "   'recall': 0.5321253052503052,\n",
       "   'precision': 0.5198534018870706,\n",
       "   'f1': 0.5054071844471564,\n",
       "   'incorrect_labels': {'Direct': 14,\n",
       "    'Metaphorical': 38,\n",
       "    'Semantic list': 2,\n",
       "    'Reduplication': 4,\n",
       "    'Single': 3}},\n",
       "  {'train_accuracy': 0.7280966767371602,\n",
       "   'validation_accuracy': 0.556390977443609,\n",
       "   'recall': 0.55560057997558,\n",
       "   'precision': 0.5528787878787879,\n",
       "   'f1': 0.5378397051474263,\n",
       "   'incorrect_labels': {'Direct': 16,\n",
       "    'Metaphorical': 29,\n",
       "    'Semantic list': 2,\n",
       "    'Reduplication': 4,\n",
       "    'Single': 3}},\n",
       "  {'train_accuracy': 0.743202416918429,\n",
       "   'validation_accuracy': 0.5413533834586466,\n",
       "   'recall': 0.5511958180708181,\n",
       "   'precision': 0.541687552213868,\n",
       "   'f1': 0.5303902366213207,\n",
       "   'incorrect_labels': {'Direct': 14,\n",
       "    'Metaphorical': 33,\n",
       "    'Semantic list': 2,\n",
       "    'Reduplication': 4,\n",
       "    'Single': 3}},\n",
       "  {'train_accuracy': 0.7486404833836858,\n",
       "   'validation_accuracy': 0.5112781954887218,\n",
       "   'recall': 0.5365270146520146,\n",
       "   'precision': 0.5269531979458449,\n",
       "   'f1': 0.5096060442996273,\n",
       "   'incorrect_labels': {'Direct': 12,\n",
       "    'Metaphorical': 39,\n",
       "    'Semantic list': 2,\n",
       "    'Reduplication': 4,\n",
       "    'Single': 3}},\n",
       "  {'train_accuracy': 0.7498489425981874,\n",
       "   'validation_accuracy': 0.5112781954887218,\n",
       "   'recall': 0.5365270146520146,\n",
       "   'precision': 0.5269531979458449,\n",
       "   'f1': 0.5096060442996273,\n",
       "   'incorrect_labels': {'Direct': 12,\n",
       "    'Metaphorical': 39,\n",
       "    'Semantic list': 2,\n",
       "    'Reduplication': 4,\n",
       "    'Single': 3}},\n",
       "  {'train_accuracy': 0.7546827794561933,\n",
       "   'validation_accuracy': 0.5112781954887218,\n",
       "   'recall': 0.5356936813186812,\n",
       "   'precision': 0.5219135154061624,\n",
       "   'f1': 0.5060532228520691,\n",
       "   'incorrect_labels': {'Direct': 11,\n",
       "    'Metaphorical': 40,\n",
       "    'Semantic list': 2,\n",
       "    'Reduplication': 4,\n",
       "    'Single': 3}},\n",
       "  {'train_accuracy': 0.7655589123867069,\n",
       "   'validation_accuracy': 0.518796992481203,\n",
       "   'recall': 0.539823717948718,\n",
       "   'precision': 0.5279452614379084,\n",
       "   'f1': 0.5131156333490147,\n",
       "   'incorrect_labels': {'Direct': 13,\n",
       "    'Metaphorical': 37,\n",
       "    'Semantic list': 2,\n",
       "    'Reduplication': 4,\n",
       "    'Single': 3}},\n",
       "  {'train_accuracy': 0.7673716012084593,\n",
       "   'validation_accuracy': 0.5413533834586466,\n",
       "   'recall': 0.5520489926739927,\n",
       "   'precision': 0.5409753787878788,\n",
       "   'f1': 0.5280017313557298,\n",
       "   'incorrect_labels': {'Direct': 12,\n",
       "    'Metaphorical': 35,\n",
       "    'Semantic list': 2,\n",
       "    'Reduplication': 4,\n",
       "    'Single': 3}},\n",
       "  {'train_accuracy': 0.7746223564954683,\n",
       "   'validation_accuracy': 0.5714285714285714,\n",
       "   'recall': 0.5645352564102565,\n",
       "   'precision': 0.5507658354717179,\n",
       "   'f1': 0.5473419699643464,\n",
       "   'incorrect_labels': {'Direct': 15,\n",
       "    'Metaphorical': 28,\n",
       "    'Semantic list': 2,\n",
       "    'Reduplication': 4,\n",
       "    'Single': 3}},\n",
       "  {'train_accuracy': 0.7830815709969788,\n",
       "   'validation_accuracy': 0.5338345864661654,\n",
       "   'recall': 0.5470032051282051,\n",
       "   'precision': 0.5371296808196963,\n",
       "   'f1': 0.5214052867238698,\n",
       "   'incorrect_labels': {'Direct': 11,\n",
       "    'Metaphorical': 37,\n",
       "    'Semantic list': 2,\n",
       "    'Reduplication': 4,\n",
       "    'Single': 3}},\n",
       "  {'train_accuracy': 0.7854984894259819,\n",
       "   'validation_accuracy': 0.5338345864661654,\n",
       "   'recall': 0.5448069291819292,\n",
       "   'precision': 0.5309027777777777,\n",
       "   'f1': 0.5240448102436362,\n",
       "   'incorrect_labels': {'Direct': 14,\n",
       "    'Metaphorical': 34,\n",
       "    'Semantic list': 2,\n",
       "    'Reduplication': 4,\n",
       "    'Single': 3}},\n",
       "  {'train_accuracy': 0.7963746223564955,\n",
       "   'validation_accuracy': 0.5338345864661654,\n",
       "   'recall': 0.546407967032967,\n",
       "   'precision': 0.5346119281045751,\n",
       "   'f1': 0.5202711091650796,\n",
       "   'incorrect_labels': {'Direct': 11,\n",
       "    'Metaphorical': 37,\n",
       "    'Semantic list': 2,\n",
       "    'Reduplication': 4,\n",
       "    'Single': 3}},\n",
       "  {'train_accuracy': 0.8078549848942598,\n",
       "   'validation_accuracy': 0.556390977443609,\n",
       "   'recall': 0.5539797008547008,\n",
       "   'precision': 0.5388392163392164,\n",
       "   'f1': 0.5370568669835911,\n",
       "   'incorrect_labels': {'Direct': 15,\n",
       "    'Metaphorical': 30,\n",
       "    'Semantic list': 2,\n",
       "    'Reduplication': 4,\n",
       "    'Single': 3}},\n",
       "  {'train_accuracy': 0.8096676737160121,\n",
       "   'validation_accuracy': 0.556390977443609,\n",
       "   'recall': 0.5539797008547008,\n",
       "   'precision': 0.5388392163392164,\n",
       "   'f1': 0.5370568669835911,\n",
       "   'incorrect_labels': {'Direct': 15,\n",
       "    'Metaphorical': 30,\n",
       "    'Semantic list': 2,\n",
       "    'Reduplication': 4,\n",
       "    'Single': 3}}],\n",
       " EmojiCompositionModel(\n",
       "   (text_encoder): CLIPTextTransformer(\n",
       "     (embeddings): CLIPTextEmbeddings(\n",
       "       (token_embedding): Embedding(49408, 512)\n",
       "       (position_embedding): Embedding(77, 512)\n",
       "     )\n",
       "     (encoder): CLIPEncoder(\n",
       "       (layers): ModuleList(\n",
       "         (0-11): 12 x CLIPEncoderLayer(\n",
       "           (self_attn): CLIPSdpaAttention(\n",
       "             (k_proj): Linear(in_features=512, out_features=512, bias=True)\n",
       "             (v_proj): Linear(in_features=512, out_features=512, bias=True)\n",
       "             (q_proj): Linear(in_features=512, out_features=512, bias=True)\n",
       "             (out_proj): Linear(in_features=512, out_features=512, bias=True)\n",
       "           )\n",
       "           (layer_norm1): LayerNorm((512,), eps=1e-05, elementwise_affine=True)\n",
       "           (mlp): CLIPMLP(\n",
       "             (activation_fn): QuickGELUActivation()\n",
       "             (fc1): Linear(in_features=512, out_features=2048, bias=True)\n",
       "             (fc2): Linear(in_features=2048, out_features=512, bias=True)\n",
       "           )\n",
       "           (layer_norm2): LayerNorm((512,), eps=1e-05, elementwise_affine=True)\n",
       "         )\n",
       "       )\n",
       "     )\n",
       "     (final_layer_norm): LayerNorm((512,), eps=1e-05, elementwise_affine=True)\n",
       "   )\n",
       "   (text_proj): Sequential(\n",
       "     (0): Linear(in_features=512, out_features=512, bias=True)\n",
       "     (1): ReLU()\n",
       "     (2): LayerNorm((512,), eps=1e-05, elementwise_affine=True)\n",
       "     (3): Dropout(p=0.1, inplace=False)\n",
       "   )\n",
       "   (desc_proj): Sequential(\n",
       "     (0): Linear(in_features=512, out_features=256, bias=True)\n",
       "     (1): ReLU()\n",
       "     (2): LayerNorm((256,), eps=1e-05, elementwise_affine=True)\n",
       "     (3): Dropout(p=0.1, inplace=False)\n",
       "   )\n",
       "   (image_proj): Sequential(\n",
       "     (0): Linear(in_features=768, out_features=256, bias=True)\n",
       "     (1): ReLU()\n",
       "     (2): LayerNorm((256,), eps=1e-05, elementwise_affine=True)\n",
       "     (3): Dropout(p=0.1, inplace=False)\n",
       "   )\n",
       "   (classifier): TypeClassifier(\n",
       "     (model): Sequential(\n",
       "       (0): Linear(in_features=1536, out_features=1024, bias=True)\n",
       "       (1): ReLU()\n",
       "       (2): Dropout(p=0.1, inplace=False)\n",
       "       (3): Linear(in_features=1024, out_features=512, bias=True)\n",
       "       (4): ReLU()\n",
       "       (5): Dropout(p=0.1, inplace=False)\n",
       "       (6): Linear(in_features=512, out_features=5, bias=True)\n",
       "     )\n",
       "   )\n",
       " ))"
      ]
     },
     "execution_count": 82,
     "metadata": {},
     "output_type": "execute_result"
    }
   ],
   "source": [
    "train(0.5, 0.5, verbose=True)"
   ]
  }
 ],
 "metadata": {
  "kernelspec": {
   "display_name": "CS4248",
   "language": "python",
   "name": "python3"
  },
  "language_info": {
   "codemirror_mode": {
    "name": "ipython",
    "version": 3
   },
   "file_extension": ".py",
   "mimetype": "text/x-python",
   "name": "python",
   "nbconvert_exporter": "python",
   "pygments_lexer": "ipython3",
   "version": "3.11.11"
  }
 },
 "nbformat": 4,
 "nbformat_minor": 5
}
